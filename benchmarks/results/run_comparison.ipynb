{
 "metadata": {
  "language_info": {
   "codemirror_mode": {
    "name": "ipython",
    "version": 3
   },
   "file_extension": ".py",
   "mimetype": "text/x-python",
   "name": "python",
   "nbconvert_exporter": "python",
   "pygments_lexer": "ipython3",
   "version": "3.6.9-final"
  },
  "orig_nbformat": 2,
  "kernelspec": {
   "name": "python36964bit4fd1afe9f1d24c86a6cd28a29bb0ec00",
   "display_name": "Python 3.6.9 64-bit"
  }
 },
 "nbformat": 4,
 "nbformat_minor": 2,
 "cells": [
  {
   "cell_type": "markdown",
   "metadata": {},
   "source": [
    "# Comparison pricing strategies "
   ]
  },
  {
   "cell_type": "code",
   "execution_count": 94,
   "metadata": {},
   "outputs": [
    {
     "output_type": "execute_result",
     "data": {
      "text/plain": "0     P-n16-k8.vrp\n1     P-n16-k8.vrp\n2     P-n16-k8.vrp\n3     P-n22-k8.vrp\n4     P-n22-k8.vrp\n          ...     \n61    P-n50-k7.vrp\n62    A-n39-k6.vrp\n63    P-n40-k5.vrp\n64    A-n39-k6.vrp\n65    P-n50-k7.vrp\nName: Instance, Length: 66, dtype: object"
     },
     "metadata": {},
     "execution_count": 94
    }
   ],
   "source": [
    "import pandas\n",
    "instances = [\"P-n20-k2.vrp\",\n",
    "\"P-n21-k2.vrp\",\n",
    "\"P-n22-k2.vrp\",\n",
    "\"P-n21-k2.vrp\"]\n",
    "pandas = pandas.read_csv(\"cvrp.csv\")\n",
    "group = pandas.groupby(\"Instance\")\n",
    "#pandas[\"Instance\"]\n",
    "\n"
   ]
  },
  {
   "cell_type": "code",
   "execution_count": 95,
   "metadata": {},
   "outputs": [],
   "source": [
    "#pandas = pandas[pandas['Instance'].isin(instances)]\n",
    "\n"
   ]
  },
  {
   "cell_type": "code",
   "execution_count": 96,
   "metadata": {},
   "outputs": [
    {
     "output_type": "execute_result",
     "data": {
      "text/plain": "{'A-n32-k5.vrp': Int64Index([28, 35, 44, 48, 51], dtype='int64'),\n 'A-n33-k5.vrp': Int64Index([27, 32, 41, 46, 47], dtype='int64'),\n 'A-n33-k6.vrp': Int64Index([29, 36, 39, 40, 42, 45], dtype='int64'),\n 'A-n34-k5.vrp': Int64Index([31, 34, 43, 49], dtype='int64'),\n 'A-n37-k5.vrp': Int64Index([30], dtype='int64'),\n 'A-n37-k6.vrp': Int64Index([38], dtype='int64'),\n 'A-n39-k5.vrp': Int64Index([37], dtype='int64'),\n 'A-n39-k6.vrp': Int64Index([33, 62, 64], dtype='int64'),\n 'P-n16-k8.vrp': Int64Index([0, 1, 2, 52, 53, 54, 55, 56, 57, 58, 59], dtype='int64'),\n 'P-n19-k2.vrp': Int64Index([9, 10, 13], dtype='int64'),\n 'P-n20-k2.vrp': Int64Index([12, 14, 18], dtype='int64'),\n 'P-n21-k2.vrp': Int64Index([15, 17, 20], dtype='int64'),\n 'P-n22-k2.vrp': Int64Index([11, 16, 21], dtype='int64'),\n 'P-n22-k8.vrp': Int64Index([3, 4, 5], dtype='int64'),\n 'P-n23-k8.vrp': Int64Index([6, 7, 8], dtype='int64'),\n 'P-n40-k5.vrp': Int64Index([23, 24, 60, 63], dtype='int64'),\n 'P-n50-k7.vrp': Int64Index([50, 61, 65], dtype='int64'),\n 'P-n51-k10.vrp': Int64Index([26], dtype='int64'),\n 'P-n55-k15.vrp': Int64Index([19, 22, 25], dtype='int64')}"
     },
     "metadata": {},
     "execution_count": 96
    }
   ],
   "source": [
    "group.groups"
   ]
  },
  {
   "cell_type": "code",
   "execution_count": 98,
   "metadata": {
    "tags": []
   },
   "outputs": [
    {
     "output_type": "execute_result",
     "data": {
      "text/plain": "         Instance Pricing strategy Subproblem type  Dived  Greedy  \\\n28   A-n32-k5.vrp            Hyper            cspy  False    True   \n27   A-n33-k5.vrp       BestEdges1            cspy  False    True   \n40   A-n33-k6.vrp            Hyper            cspy  False    True   \n31   A-n34-k5.vrp            Hyper            cspy  False    True   \n30   A-n37-k5.vrp       BestEdges1            cspy  False    True   \n38   A-n37-k6.vrp            Exact            cspy  False    True   \n37   A-n39-k5.vrp            Hyper            cspy  False    True   \n33   A-n39-k6.vrp       BestEdges1            cspy  False    True   \n56   P-n16-k8.vrp            Hyper            cspy  False    True   \n10   P-n19-k2.vrp       BestEdges1            cspy  False    True   \n14   P-n20-k2.vrp       BestEdges1            cspy  False    True   \n17   P-n21-k2.vrp       BestEdges1            cspy  False    True   \n16   P-n22-k2.vrp       BestEdges1            cspy  False    True   \n4    P-n22-k8.vrp       BestEdges1            cspy  False    True   \n7    P-n23-k8.vrp       BestEdges1            cspy  False    True   \n24   P-n40-k5.vrp       BestEdges1            cspy  False    True   \n50   P-n50-k7.vrp       BestEdges1            cspy  False    True   \n26  P-n51-k10.vrp            Hyper            cspy  False    True   \n19  P-n55-k15.vrp            Hyper            cspy  False    True   \n\n         Runtime  # of iterations  Integrality gap  Optimality gap  Optimal  \n28   6913.850628              269         7.024380        3.698980    False  \n27   4101.498436              127         1.051900        0.151286    False  \n40   2206.869215              190         2.598146        0.673854    False  \n31   6155.374030              304         6.260605        1.413882    False  \n30  15030.585108              242         1.911932        0.448430    False  \n38  43411.134799              116         5.371455        2.845100    False  \n37  39790.642288              473         4.029871        1.094891    False  \n33  27955.746285              305         3.191769        0.000000     True  \n56      3.075270               22         2.040816        0.000000     True  \n10    150.745466               54         7.202798        3.301887    False  \n14    357.586975              112         4.388714        2.777778    False  \n17    596.678777              139         0.234192        1.421801    False  \n16    968.801821              173         6.522620        7.407407    False  \n4      40.069792               11         0.056529       -2.155887    False  \n7      61.769548               11         1.431213        0.000000     True  \n24   4130.795295              201         2.068360        0.000000     True  \n50  10437.817734              228         4.422284        2.346570    False  \n26  18907.117756              304         2.182375        1.079622    False  \n19   2510.511133              109         1.494742       -4.044489    False  ",
      "text/html": "<div>\n<style scoped>\n    .dataframe tbody tr th:only-of-type {\n        vertical-align: middle;\n    }\n\n    .dataframe tbody tr th {\n        vertical-align: top;\n    }\n\n    .dataframe thead th {\n        text-align: right;\n    }\n</style>\n<table border=\"1\" class=\"dataframe\">\n  <thead>\n    <tr style=\"text-align: right;\">\n      <th></th>\n      <th>Instance</th>\n      <th>Pricing strategy</th>\n      <th>Subproblem type</th>\n      <th>Dived</th>\n      <th>Greedy</th>\n      <th>Runtime</th>\n      <th># of iterations</th>\n      <th>Integrality gap</th>\n      <th>Optimality gap</th>\n      <th>Optimal</th>\n    </tr>\n  </thead>\n  <tbody>\n    <tr>\n      <th>28</th>\n      <td>A-n32-k5.vrp</td>\n      <td>Hyper</td>\n      <td>cspy</td>\n      <td>False</td>\n      <td>True</td>\n      <td>6913.850628</td>\n      <td>269</td>\n      <td>7.024380</td>\n      <td>3.698980</td>\n      <td>False</td>\n    </tr>\n    <tr>\n      <th>27</th>\n      <td>A-n33-k5.vrp</td>\n      <td>BestEdges1</td>\n      <td>cspy</td>\n      <td>False</td>\n      <td>True</td>\n      <td>4101.498436</td>\n      <td>127</td>\n      <td>1.051900</td>\n      <td>0.151286</td>\n      <td>False</td>\n    </tr>\n    <tr>\n      <th>40</th>\n      <td>A-n33-k6.vrp</td>\n      <td>Hyper</td>\n      <td>cspy</td>\n      <td>False</td>\n      <td>True</td>\n      <td>2206.869215</td>\n      <td>190</td>\n      <td>2.598146</td>\n      <td>0.673854</td>\n      <td>False</td>\n    </tr>\n    <tr>\n      <th>31</th>\n      <td>A-n34-k5.vrp</td>\n      <td>Hyper</td>\n      <td>cspy</td>\n      <td>False</td>\n      <td>True</td>\n      <td>6155.374030</td>\n      <td>304</td>\n      <td>6.260605</td>\n      <td>1.413882</td>\n      <td>False</td>\n    </tr>\n    <tr>\n      <th>30</th>\n      <td>A-n37-k5.vrp</td>\n      <td>BestEdges1</td>\n      <td>cspy</td>\n      <td>False</td>\n      <td>True</td>\n      <td>15030.585108</td>\n      <td>242</td>\n      <td>1.911932</td>\n      <td>0.448430</td>\n      <td>False</td>\n    </tr>\n    <tr>\n      <th>38</th>\n      <td>A-n37-k6.vrp</td>\n      <td>Exact</td>\n      <td>cspy</td>\n      <td>False</td>\n      <td>True</td>\n      <td>43411.134799</td>\n      <td>116</td>\n      <td>5.371455</td>\n      <td>2.845100</td>\n      <td>False</td>\n    </tr>\n    <tr>\n      <th>37</th>\n      <td>A-n39-k5.vrp</td>\n      <td>Hyper</td>\n      <td>cspy</td>\n      <td>False</td>\n      <td>True</td>\n      <td>39790.642288</td>\n      <td>473</td>\n      <td>4.029871</td>\n      <td>1.094891</td>\n      <td>False</td>\n    </tr>\n    <tr>\n      <th>33</th>\n      <td>A-n39-k6.vrp</td>\n      <td>BestEdges1</td>\n      <td>cspy</td>\n      <td>False</td>\n      <td>True</td>\n      <td>27955.746285</td>\n      <td>305</td>\n      <td>3.191769</td>\n      <td>0.000000</td>\n      <td>True</td>\n    </tr>\n    <tr>\n      <th>56</th>\n      <td>P-n16-k8.vrp</td>\n      <td>Hyper</td>\n      <td>cspy</td>\n      <td>False</td>\n      <td>True</td>\n      <td>3.075270</td>\n      <td>22</td>\n      <td>2.040816</td>\n      <td>0.000000</td>\n      <td>True</td>\n    </tr>\n    <tr>\n      <th>10</th>\n      <td>P-n19-k2.vrp</td>\n      <td>BestEdges1</td>\n      <td>cspy</td>\n      <td>False</td>\n      <td>True</td>\n      <td>150.745466</td>\n      <td>54</td>\n      <td>7.202798</td>\n      <td>3.301887</td>\n      <td>False</td>\n    </tr>\n    <tr>\n      <th>14</th>\n      <td>P-n20-k2.vrp</td>\n      <td>BestEdges1</td>\n      <td>cspy</td>\n      <td>False</td>\n      <td>True</td>\n      <td>357.586975</td>\n      <td>112</td>\n      <td>4.388714</td>\n      <td>2.777778</td>\n      <td>False</td>\n    </tr>\n    <tr>\n      <th>17</th>\n      <td>P-n21-k2.vrp</td>\n      <td>BestEdges1</td>\n      <td>cspy</td>\n      <td>False</td>\n      <td>True</td>\n      <td>596.678777</td>\n      <td>139</td>\n      <td>0.234192</td>\n      <td>1.421801</td>\n      <td>False</td>\n    </tr>\n    <tr>\n      <th>16</th>\n      <td>P-n22-k2.vrp</td>\n      <td>BestEdges1</td>\n      <td>cspy</td>\n      <td>False</td>\n      <td>True</td>\n      <td>968.801821</td>\n      <td>173</td>\n      <td>6.522620</td>\n      <td>7.407407</td>\n      <td>False</td>\n    </tr>\n    <tr>\n      <th>4</th>\n      <td>P-n22-k8.vrp</td>\n      <td>BestEdges1</td>\n      <td>cspy</td>\n      <td>False</td>\n      <td>True</td>\n      <td>40.069792</td>\n      <td>11</td>\n      <td>0.056529</td>\n      <td>-2.155887</td>\n      <td>False</td>\n    </tr>\n    <tr>\n      <th>7</th>\n      <td>P-n23-k8.vrp</td>\n      <td>BestEdges1</td>\n      <td>cspy</td>\n      <td>False</td>\n      <td>True</td>\n      <td>61.769548</td>\n      <td>11</td>\n      <td>1.431213</td>\n      <td>0.000000</td>\n      <td>True</td>\n    </tr>\n    <tr>\n      <th>24</th>\n      <td>P-n40-k5.vrp</td>\n      <td>BestEdges1</td>\n      <td>cspy</td>\n      <td>False</td>\n      <td>True</td>\n      <td>4130.795295</td>\n      <td>201</td>\n      <td>2.068360</td>\n      <td>0.000000</td>\n      <td>True</td>\n    </tr>\n    <tr>\n      <th>50</th>\n      <td>P-n50-k7.vrp</td>\n      <td>BestEdges1</td>\n      <td>cspy</td>\n      <td>False</td>\n      <td>True</td>\n      <td>10437.817734</td>\n      <td>228</td>\n      <td>4.422284</td>\n      <td>2.346570</td>\n      <td>False</td>\n    </tr>\n    <tr>\n      <th>26</th>\n      <td>P-n51-k10.vrp</td>\n      <td>Hyper</td>\n      <td>cspy</td>\n      <td>False</td>\n      <td>True</td>\n      <td>18907.117756</td>\n      <td>304</td>\n      <td>2.182375</td>\n      <td>1.079622</td>\n      <td>False</td>\n    </tr>\n    <tr>\n      <th>19</th>\n      <td>P-n55-k15.vrp</td>\n      <td>Hyper</td>\n      <td>cspy</td>\n      <td>False</td>\n      <td>True</td>\n      <td>2510.511133</td>\n      <td>109</td>\n      <td>1.494742</td>\n      <td>-4.044489</td>\n      <td>False</td>\n    </tr>\n  </tbody>\n</table>\n</div>"
     },
     "metadata": {},
     "execution_count": 98
    }
   ],
   "source": [
    "min_index = []\n",
    "for i in group.groups:\n",
    "    min_index.append(group.get_group(i)[\"Runtime\"].idxmin(axis = 0))\n",
    "min_index\n",
    "\n",
    "pandas.filter(min_index, axis = 0)\n",
    "\n",
    "\n"
   ]
  },
  {
   "cell_type": "code",
   "execution_count": null,
   "metadata": {},
   "outputs": [],
   "source": []
  },
  {
   "cell_type": "code",
   "execution_count": null,
   "metadata": {},
   "outputs": [],
   "source": []
  }
 ]
}